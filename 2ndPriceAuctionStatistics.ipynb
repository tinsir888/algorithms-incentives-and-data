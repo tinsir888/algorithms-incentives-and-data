{
  "nbformat": 4,
  "nbformat_minor": 0,
  "metadata": {
    "colab": {
      "provenance": [],
      "authorship_tag": "ABX9TyNWUFiFJ4Sb1IyezhPbSrU8",
      "include_colab_link": true
    },
    "kernelspec": {
      "name": "python3",
      "display_name": "Python 3"
    },
    "language_info": {
      "name": "python"
    }
  },
  "cells": [
    {
      "cell_type": "markdown",
      "metadata": {
        "id": "view-in-github",
        "colab_type": "text"
      },
      "source": [
        "<a href=\"https://colab.research.google.com/github/tinsir888/algorithms-incentives-and-data/blob/main/2ndPriceAuctionStatistics.ipynb\" target=\"_parent\"><img src=\"https://colab.research.google.com/assets/colab-badge.svg\" alt=\"Open In Colab\"/></a>"
      ]
    },
    {
      "cell_type": "code",
      "execution_count": null,
      "metadata": {
        "id": "FadbIVuP1fdB"
      },
      "outputs": [],
      "source": [
        "import pandas as pd\n",
        "import re\n",
        "\n",
        "data = []\n",
        "\n",
        "with open('ad3-23.txt', 'r') as file:\n",
        "    for line in file:\n",
        "        # Use a regular expression to match both integer and floating-point numbers with a comma as the decimal separator\n",
        "        match = re.search(r'\\d+(,\\d+)?', line)\n",
        "\n",
        "        if match:\n",
        "            data.append(match.group(0))\n",
        "\n",
        "# Create a DataFrame\n",
        "data_df = pd.DataFrame({'payment': data})\n",
        "\n",
        "# Convert the 'payment' column to numeric\n",
        "data_df['payment'] = data_df['payment'].str.replace(',', '.').astype(float)\n"
      ]
    },
    {
      "cell_type": "code",
      "source": [
        "print(data[0:10])"
      ],
      "metadata": {
        "colab": {
          "base_uri": "https://localhost:8080/"
        },
        "id": "_rUXTYl72Six",
        "outputId": "246e6b04-31aa-4fa7-8db4-3a9391f191d7"
      },
      "execution_count": null,
      "outputs": [
        {
          "output_type": "stream",
          "name": "stdout",
          "text": [
            "['390', '390', '390', '479,8707345', '390', '390', '390,2362283', '589,9330947', '430,6692915', '0']\n"
          ]
        }
      ]
    },
    {
      "cell_type": "code",
      "source": [
        "\n",
        "# Create a histogram to visualize the data\n",
        "plt.hist(data_df['payment'], bins=100, color='skyblue', edgecolor='black')\n",
        "plt.xlabel('Payment Amount')\n",
        "plt.ylabel('Frequency')\n",
        "plt.title('Distribution of Payments')\n",
        "plt.show()\n"
      ],
      "metadata": {
        "colab": {
          "base_uri": "https://localhost:8080/",
          "height": 472
        },
        "id": "7I11c5JMlgzw",
        "outputId": "4a76f617-db64-43dd-adbd-037f0eba483a"
      },
      "execution_count": null,
      "outputs": [
        {
          "output_type": "display_data",
          "data": {
            "text/plain": [
              "<Figure size 640x480 with 1 Axes>"
            ],
            "image/png": "[encoded data removed]"
          },
          "metadata": {}
        }
      ]
    },
    {
      "cell_type": "code",
      "source": [
        "def cnt_val(target_value):\n",
        "  return (data_df['payment'] == target_value).sum()\n",
        "\n",
        "def cnt(target_value):\n",
        "  # use value_counts() to count times of occurrance of certain value\n",
        "  count = (data_df['payment'] == target_value).sum()\n",
        "\n",
        "  print(f\"value {target_value}, occurs: {count} times\")\n",
        "\n",
        "print(f\"size of data: {len(data_df)}\")\n",
        "\n",
        "cnt(0)\n",
        "cnt(390)\n",
        "\n",
        "print(f\"value > 390 occurs: {len(data_df)-cnt_val(0)-cnt_val(390)} times\")\n",
        "print(f\"maximum of payment is: {data_df.max()}\")\n",
        "print(f\"value > 500 occurs: {(data_df['payment']>=500).sum()} times\")\n",
        "print(f\"value > 600 occurs: {(data_df['payment']>=600).sum()} times\")"
      ],
      "metadata": {
        "colab": {
          "base_uri": "https://localhost:8080/"
        },
        "id": "C-09A0OXlwLh",
        "outputId": "4a67c15e-8da0-4248-b601-1670876b40b7"
      },
      "execution_count": null,
      "outputs": [
        {
          "output_type": "stream",
          "name": "stdout",
          "text": [
            "size of data: 10000\n",
            "value 0, occurs: 1456 times\n",
            "value 390, occurs: 4675 times\n",
            "value > 390 occurs: 3869 times\n",
            "maximum of payment is: payment    686.060145\n",
            "dtype: float64\n",
            "value > 500 occurs: 1535 times\n",
            "value > 600 occurs: 355 times\n"
          ]
        }
      ]
    },
    {
      "cell_type": "code",
      "source": [
        "a=210\n",
        "b=690\n",
        "print((390-a)/(b-a))\n",
        "print((1-(500-a)/(b-a))**2)\n",
        "print((1-(600-a)/(b-a))**2)"
      ],
      "metadata": {
        "colab": {
          "base_uri": "https://localhost:8080/"
        },
        "id": "PvIMNwpzyIay",
        "outputId": "0eabe83d-cd66-4ee6-c54a-d14fa6eed3ca"
      },
      "execution_count": null,
      "outputs": [
        {
          "output_type": "stream",
          "name": "stdout",
          "text": [
            "0.375\n",
            "0.15668402777777782\n",
            "0.03515625\n"
          ]
        }
      ]
    }
  ]
}